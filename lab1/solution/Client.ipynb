{
 "cells": [
  {
   "cell_type": "markdown",
   "metadata": {},
   "source": [
    "# Client\n",
    "\n",
    "- Type \"get\" to search for Phone Numbers\n",
    "- Type \"getall\" to display all Entries\n",
    "- Type \"close\" to close Session"
   ]
  },
  {
   "cell_type": "code",
   "execution_count": null,
   "metadata": {
    "pycharm": {
     "name": "#%%\n"
    },
    "scrolled": true
   },
   "outputs": [
    {
     "name": "stderr",
     "output_type": "stream",
     "text": [
      "2020-10-29 16:01:45,983 - vs2lab.a1_layers.client.Client - INFO - Client connected to socket <socket.socket fd=59, family=AddressFamily.AF_INET, type=SocketKind.SOCK_STREAM, proto=0, laddr=('127.0.0.1', 57772), raddr=('127.0.0.1', 50013)>\n"
     ]
    },
    {
     "name": "stdout",
     "output_type": "stream",
     "text": [
      "get_all\n"
     ]
    },
    {
     "name": "stderr",
     "output_type": "stream",
     "text": [
      "2020-10-29 16:01:50,742 - vs2lab.a1_layers.client.Client - INFO - GET_ALL\n",
      "2020-10-29 16:01:50,743 - vs2lab.a1_layers.client.Client - INFO - sent Request: {'type': 'GET_ALL', 'name': ''}\n",
      "2020-10-29 16:01:50,744 - vs2lab.a1_layers.client.Client - INFO - received data: b'{\"type\": \"SUCCESS\", \"data\": {\"Ute\": 2860968, \"Rainer\": 3905852, \"Harald\": 6235534, \"Olaf\": 9275980, \"Sarah\": 6548766}}'\n",
      "2020-10-29 16:01:50,746 - vs2lab.a1_layers.client.Client - INFO - Client connected to socket <socket.socket fd=62, family=AddressFamily.AF_INET, type=SocketKind.SOCK_STREAM, proto=0, laddr=('127.0.0.1', 57776), raddr=('127.0.0.1', 50013)>\n"
     ]
    },
    {
     "name": "stdout",
     "output_type": "stream",
     "text": [
      "All Entries: \n",
      "\n",
      "Ute: 2860968\n",
      "Rainer: 3905852\n",
      "Harald: 6235534\n",
      "Olaf: 9275980\n",
      "Sarah: 6548766\n",
      "get\n",
      "Please type a Name:\n",
      "Sarah\n"
     ]
    },
    {
     "name": "stderr",
     "output_type": "stream",
     "text": [
      "2020-10-29 16:03:55,835 - vs2lab.a1_layers.client.Client - INFO - GET: Sarah\n",
      "2020-10-29 16:03:55,836 - vs2lab.a1_layers.client.Client - INFO - sent Request: {'type': 'GET', 'name': 'Sarah'}\n",
      "2020-10-29 16:03:55,838 - vs2lab.a1_layers.client.Client - INFO - received data: b'{\"type\": \"SUCCESS\", \"data\": {\"Sarah\": 6548766}}'\n",
      "2020-10-29 16:03:55,840 - vs2lab.a1_layers.client.Client - INFO - Client connected to socket <socket.socket fd=59, family=AddressFamily.AF_INET, type=SocketKind.SOCK_STREAM, proto=0, laddr=('127.0.0.1', 57794), raddr=('127.0.0.1', 50013)>\n"
     ]
    },
    {
     "name": "stdout",
     "output_type": "stream",
     "text": [
      "The Number of Sarah is 6548766.\n",
      "get\n",
      "Please type a Name:\n",
      "XYZ\n"
     ]
    },
    {
     "name": "stderr",
     "output_type": "stream",
     "text": [
      "2020-10-29 16:04:15,010 - vs2lab.a1_layers.client.Client - INFO - GET: XYZ\n",
      "2020-10-29 16:04:15,012 - vs2lab.a1_layers.client.Client - INFO - sent Request: {'type': 'GET', 'name': 'XYZ'}\n",
      "2020-10-29 16:04:15,014 - vs2lab.a1_layers.client.Client - INFO - received data: b'{\"type\": \"ERROR\", \"msg\": \"Name not found in Database\", \"data\": null}'\n",
      "2020-10-29 16:04:15,015 - vs2lab.a1_layers.client.Client - INFO - Client connected to socket <socket.socket fd=61, family=AddressFamily.AF_INET, type=SocketKind.SOCK_STREAM, proto=0, laddr=('127.0.0.1', 57798), raddr=('127.0.0.1', 50013)>\n"
     ]
    },
    {
     "name": "stdout",
     "output_type": "stream",
     "text": [
      "Error: Name not found in Database\n"
     ]
    }
   ],
   "source": [
    "import client\n",
    "\n",
    "while True:\n",
    "    clientInstance = client.Client()\n",
    "    inputText = input()\n",
    "    if inputText == \"get\":\n",
    "        print(\"Please type a Name:\")\n",
    "        inputName = input()\n",
    "        answer = clientInstance.get(inputName)\n",
    "        if answer[\"type\"] == \"SUCCESS\":\n",
    "            print(\"The Number of \" + inputName + \" is \" + str(answer[\"data\"][inputName]) + \".\")\n",
    "        elif answer[\"type\"] == \"ERROR\":\n",
    "            print(\"Error: \" + answer[\"msg\"])\n",
    "\n",
    "    elif inputText == \"get_all\":\n",
    "        answerData = (clientInstance.get_all()[\"data\"])\n",
    "        print(\"All Entries: \\n\")\n",
    "        for entry in answerData.keys():\n",
    "            print(entry + \": \" + str(answerData[entry]))\n",
    "\n",
    "    elif inputText == \"close\":\n",
    "        clientInstance.close()\n",
    "        print(\"Session closed\")\n",
    "        break"
   ]
  },
  {
   "cell_type": "code",
   "execution_count": null,
   "metadata": {},
   "outputs": [],
   "source": []
  }
 ],
 "metadata": {
  "kernelspec": {
   "display_name": "Python 3",
   "language": "python",
   "name": "python3"
  },
  "language_info": {
   "codemirror_mode": {
    "name": "ipython",
    "version": 3
   },
   "file_extension": ".py",
   "mimetype": "text/x-python",
   "name": "python",
   "nbconvert_exporter": "python",
   "pygments_lexer": "ipython3",
   "version": "3.6.9"
  }
 },
 "nbformat": 4,
 "nbformat_minor": 2
}
