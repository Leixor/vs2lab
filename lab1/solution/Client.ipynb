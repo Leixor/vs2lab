{
 "cells": [
  {
   "cell_type": "markdown",
   "metadata": {},
   "source": [
    "# Client\n",
    "\n",
    "- Type \"get\" to search for Phone Numbers\n",
    "- Type \"getall\" to display all Entries\n",
    "- Type \"close\" to close Session"
   ]
  },
  {
   "cell_type": "code",
   "execution_count": 1,
   "metadata": {
    "pycharm": {
     "name": "#%%\n"
    }
   },
   "outputs": [
    {
     "name": "stderr",
     "output_type": "stream",
     "text": [
      "2020-10-29 15:44:03,442 - vs2lab.a1_layers.client.Client - INFO - Client connected to socket <socket.socket fd=59, family=AddressFamily.AF_INET, type=SocketKind.SOCK_STREAM, proto=0, laddr=('127.0.0.1', 49808), raddr=('127.0.0.1', 50012)>\n"
     ]
    },
    {
     "name": "stdout",
     "output_type": "stream",
     "text": [
      "get('ute')\n"
     ]
    },
    {
     "name": "stderr",
     "output_type": "stream",
     "text": [
      "2020-10-29 15:44:08,357 - vs2lab.a1_layers.client.Client - INFO - Client connected to socket <socket.socket fd=56, family=AddressFamily.AF_INET, type=SocketKind.SOCK_STREAM, proto=0, laddr=('127.0.0.1', 49812), raddr=('127.0.0.1', 50012)>\n"
     ]
    },
    {
     "name": "stdout",
     "output_type": "stream",
     "text": [
      "get_all\n"
     ]
    },
    {
     "name": "stderr",
     "output_type": "stream",
     "text": [
      "2020-10-29 15:44:15,264 - vs2lab.a1_layers.client.Client - INFO - GET_ALL\n",
      "2020-10-29 15:44:15,265 - vs2lab.a1_layers.client.Client - INFO - sent Request: {'type': 'GET_ALL', 'name': ''}\n",
      "2020-10-29 15:44:15,267 - vs2lab.a1_layers.client.Client - INFO - received data: b'{\"type\": \"SUCCESS\", \"data\": {\"Ute\": 2860968, \"Rainer\": 3905852, \"Harald\": 6235534, \"Olaf\": 9275980, \"Sarah\": 6548766}}'\n",
      "2020-10-29 15:44:15,268 - vs2lab.a1_layers.client.Client - INFO - Client connected to socket <socket.socket fd=59, family=AddressFamily.AF_INET, type=SocketKind.SOCK_STREAM, proto=0, laddr=('127.0.0.1', 49814), raddr=('127.0.0.1', 50012)>\n"
     ]
    },
    {
     "name": "stdout",
     "output_type": "stream",
     "text": [
      "All Entries: \n",
      "\n",
      "Ute: 2860968\n",
      "Rainer: 3905852\n",
      "Harald: 6235534\n",
      "Olaf: 9275980\n",
      "Sarah: 6548766\n",
      "get\n",
      "Please type a Name:\n",
      "'Ute'\n"
     ]
    },
    {
     "name": "stderr",
     "output_type": "stream",
     "text": [
      "2020-10-29 15:44:19,251 - vs2lab.a1_layers.client.Client - INFO - GET: 'Ute'\n",
      "2020-10-29 15:44:19,252 - vs2lab.a1_layers.client.Client - INFO - sent Request: {'type': 'GET', 'name': \"'Ute'\"}\n",
      "2020-10-29 15:44:19,253 - vs2lab.a1_layers.client.Client - INFO - received data: b'{\"type\": \"ERROR\", \"msg\": \"Name not found in Database\", \"data\": null}'\n",
      "2020-10-29 15:44:19,254 - vs2lab.a1_layers.client.Client - INFO - Client connected to socket <socket.socket fd=56, family=AddressFamily.AF_INET, type=SocketKind.SOCK_STREAM, proto=0, laddr=('127.0.0.1', 49816), raddr=('127.0.0.1', 50012)>\n"
     ]
    },
    {
     "name": "stdout",
     "output_type": "stream",
     "text": [
      "Error: Name not found in Database\n",
      "rainer\n"
     ]
    },
    {
     "name": "stderr",
     "output_type": "stream",
     "text": [
      "2020-10-29 15:44:41,228 - vs2lab.a1_layers.client.Client - INFO - Client connected to socket <socket.socket fd=59, family=AddressFamily.AF_INET, type=SocketKind.SOCK_STREAM, proto=0, laddr=('127.0.0.1', 49818), raddr=('127.0.0.1', 50012)>\n"
     ]
    },
    {
     "name": "stdout",
     "output_type": "stream",
     "text": [
      "Rainer\n"
     ]
    },
    {
     "name": "stderr",
     "output_type": "stream",
     "text": [
      "2020-10-29 15:44:43,912 - vs2lab.a1_layers.client.Client - INFO - Client connected to socket <socket.socket fd=56, family=AddressFamily.AF_INET, type=SocketKind.SOCK_STREAM, proto=0, laddr=('127.0.0.1', 49820), raddr=('127.0.0.1', 50012)>\n"
     ]
    },
    {
     "name": "stdout",
     "output_type": "stream",
     "text": [
      "get\n",
      "Please type a Name:\n",
      "Rainer\n"
     ]
    },
    {
     "name": "stderr",
     "output_type": "stream",
     "text": [
      "2020-10-29 15:44:52,310 - vs2lab.a1_layers.client.Client - INFO - GET: Rainer\n",
      "2020-10-29 15:44:52,311 - vs2lab.a1_layers.client.Client - INFO - sent Request: {'type': 'GET', 'name': 'Rainer'}\n",
      "2020-10-29 15:44:52,313 - vs2lab.a1_layers.client.Client - INFO - received data: b'{\"type\": \"SUCCESS\", \"data\": {\"Rainer\": 3905852}}'\n",
      "2020-10-29 15:44:52,315 - vs2lab.a1_layers.client.Client - INFO - Client connected to socket <socket.socket fd=59, family=AddressFamily.AF_INET, type=SocketKind.SOCK_STREAM, proto=0, laddr=('127.0.0.1', 49824), raddr=('127.0.0.1', 50012)>\n"
     ]
    },
    {
     "name": "stdout",
     "output_type": "stream",
     "text": [
      "The Number of Rainer is 3905852.\n",
      "get\n",
      "Please type a Name:\n",
      "Ute\n"
     ]
    },
    {
     "name": "stderr",
     "output_type": "stream",
     "text": [
      "2020-10-29 15:44:56,628 - vs2lab.a1_layers.client.Client - INFO - GET: Ute\n",
      "2020-10-29 15:44:56,629 - vs2lab.a1_layers.client.Client - INFO - sent Request: {'type': 'GET', 'name': 'Ute'}\n",
      "2020-10-29 15:44:56,631 - vs2lab.a1_layers.client.Client - INFO - received data: b'{\"type\": \"SUCCESS\", \"data\": {\"Ute\": 2860968}}'\n",
      "2020-10-29 15:44:56,632 - vs2lab.a1_layers.client.Client - INFO - Client connected to socket <socket.socket fd=56, family=AddressFamily.AF_INET, type=SocketKind.SOCK_STREAM, proto=0, laddr=('127.0.0.1', 49826), raddr=('127.0.0.1', 50012)>\n"
     ]
    },
    {
     "name": "stdout",
     "output_type": "stream",
     "text": [
      "The Number of Ute is 2860968.\n",
      "close\n"
     ]
    },
    {
     "name": "stderr",
     "output_type": "stream",
     "text": [
      "2020-10-29 15:45:47,533 - vs2lab.a1_layers.client.Client - INFO - Client down.\n"
     ]
    },
    {
     "name": "stdout",
     "output_type": "stream",
     "text": [
      "Session closed\n"
     ]
    }
   ],
   "source": [
    "import client\n",
    "\n",
    "while True:\n",
    "    clientInstance = client.Client()\n",
    "    inputText = input()\n",
    "    if inputText == \"get\":\n",
    "        print(\"Please type a Name:\")\n",
    "        inputName = input()\n",
    "        answer = clientInstance.get(inputName)\n",
    "        if answer[\"type\"] == \"SUCCESS\":\n",
    "            print(\"The Number of \" + inputName + \" is \" + str(answer[\"data\"][inputName]) + \".\")\n",
    "        elif answer[\"type\"] == \"ERROR\":\n",
    "            print(\"Error: \" + answer[\"msg\"])\n",
    "\n",
    "    elif inputText == \"get_all\":\n",
    "        answerData = (clientInstance.get_all()[\"data\"])\n",
    "        print(\"All Entries: \\n\")\n",
    "        for entry in answerData.keys():\n",
    "            print(entry + \": \" + str(answerData[entry]))\n",
    "\n",
    "    elif inputText == \"close\":\n",
    "        clientInstance.close()\n",
    "        print(\"Session closed\")\n",
    "        break"
   ]
  },
  {
   "cell_type": "code",
   "execution_count": null,
   "metadata": {
    "pycharm": {
     "name": "#%%\n"
    }
   },
   "outputs": [],
   "source": []
  },
  {
   "cell_type": "code",
   "execution_count": null,
   "metadata": {},
   "outputs": [],
   "source": []
  }
 ],
 "metadata": {
  "kernelspec": {
   "display_name": "Python 3",
   "language": "python",
   "name": "python3"
  },
  "language_info": {
   "codemirror_mode": {
    "name": "ipython",
    "version": 3
   },
   "file_extension": ".py",
   "mimetype": "text/x-python",
   "name": "python",
   "nbconvert_exporter": "python",
   "pygments_lexer": "ipython3",
   "version": "3.6.9"
  }
 },
 "nbformat": 4,
 "nbformat_minor": 2
}
