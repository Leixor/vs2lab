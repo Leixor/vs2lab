{
 "cells": [
  {
   "cell_type": "markdown",
   "metadata": {},
   "source": [
    "# Server\n",
    "\n",
    "Start this to start the server"
   ]
  },
  {
   "cell_type": "code",
   "execution_count": null,
   "metadata": {
    "pycharm": {
     "name": "#%%\n"
    },
    "scrolled": true
   },
   "outputs": [
    {
     "name": "stderr",
     "output_type": "stream",
     "text": [
      "2020-10-29 15:43:35,588 - vs2lab.a1_layers.server.Server - INFO - new serve loop\n"
     ]
    },
    {
     "name": "stdout",
     "output_type": "stream",
     "text": [
      "None\n"
     ]
    },
    {
     "name": "stderr",
     "output_type": "stream",
     "text": [
      "2020-10-29 15:43:38,592 - vs2lab.a1_layers.server.Server - INFO - new serve loop\n",
      "2020-10-29 15:43:41,596 - vs2lab.a1_layers.server.Server - INFO - new serve loop\n",
      "2020-10-29 15:43:44,600 - vs2lab.a1_layers.server.Server - INFO - new serve loop\n",
      "2020-10-29 15:43:47,604 - vs2lab.a1_layers.server.Server - INFO - new serve loop\n",
      "2020-10-29 15:43:50,608 - vs2lab.a1_layers.server.Server - INFO - new serve loop\n",
      "2020-10-29 15:43:53,612 - vs2lab.a1_layers.server.Server - INFO - new serve loop\n",
      "2020-10-29 15:43:56,616 - vs2lab.a1_layers.server.Server - INFO - new serve loop\n",
      "2020-10-29 15:44:01,613 - vs2lab.a1_layers.server.Server - INFO - received data: b'{\"type\": \"GET_ALL\", \"name\": \"\"}'\n",
      "2020-10-29 15:44:01,615 - vs2lab.a1_layers.server.Server - INFO - reply: {'type': 'SUCCESS', 'data': {'Ute': 2860968, 'Rainer': 3905852, 'Harald': 6235534, 'Olaf': 9275980, 'Sarah': 6548766}}\n",
      "2020-10-29 15:44:01,617 - vs2lab.a1_layers.server.Server - INFO - reply sent\n",
      "2020-10-29 15:44:01,621 - vs2lab.a1_layers.server.Server - INFO - new serve loop\n",
      "2020-10-29 15:44:13,253 - vs2lab.a1_layers.server.Server - INFO - new serve loop\n",
      "2020-10-29 15:44:33,194 - vs2lab.a1_layers.server.Server - INFO - new serve loop\n",
      "2020-10-29 15:45:09,027 - vs2lab.a1_layers.server.Server - INFO - received data: b'{\"type\": \"GET\", \"name\": \"Ute\"}'\n",
      "2020-10-29 15:45:09,028 - vs2lab.a1_layers.server.Server - INFO - reply: {'type': 'SUCCESS', 'data': {'Ute': 2860968}}\n",
      "2020-10-29 15:45:09,030 - vs2lab.a1_layers.server.Server - INFO - reply sent\n",
      "2020-10-29 15:45:09,035 - vs2lab.a1_layers.server.Server - INFO - new serve loop\n"
     ]
    }
   ],
   "source": [
    "import server\n",
    "\n",
    "serverInstance = server.Server()\n",
    "serverInstance.serve()\n"
   ]
  },
  {
   "cell_type": "code",
   "execution_count": null,
   "metadata": {},
   "outputs": [],
   "source": []
  }
 ],
 "metadata": {
  "kernelspec": {
   "display_name": "Python 3",
   "language": "python",
   "name": "python3"
  },
  "language_info": {
   "codemirror_mode": {
    "name": "ipython",
    "version": 3
   },
   "file_extension": ".py",
   "mimetype": "text/x-python",
   "name": "python",
   "nbconvert_exporter": "python",
   "pygments_lexer": "ipython3",
   "version": "3.8.6"
  }
 },
 "nbformat": 4,
 "nbformat_minor": 2
}
