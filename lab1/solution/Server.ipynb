{
 "cells": [
  {
   "cell_type": "markdown",
   "metadata": {},
   "source": [
    "# Server\n",
    "\n",
    "Start this to start the server"
   ]
  },
  {
   "cell_type": "code",
   "execution_count": null,
   "metadata": {
    "pycharm": {
     "name": "#%%\n"
    },
    "scrolled": true
   },
   "outputs": [
    {
     "name": "stdout",
     "output_type": "stream",
     "text": [
      "None\n"
     ]
    },
    {
     "name": "stderr",
     "output_type": "stream",
     "text": [
      "2020-10-29 16:01:37,224 - vs2lab.a1_layers.server.Server - INFO - new serve loop\n",
      "2020-10-29 16:01:40,228 - vs2lab.a1_layers.server.Server - INFO - new serve loop\n",
      "2020-10-29 16:01:43,231 - vs2lab.a1_layers.server.Server - INFO - new serve loop\n",
      "2020-10-29 16:01:50,743 - vs2lab.a1_layers.server.Server - INFO - received data: b'{\"type\": \"GET_ALL\", \"name\": \"\"}'\n",
      "2020-10-29 16:01:50,743 - vs2lab.a1_layers.server.Server - INFO - reply: {'type': 'SUCCESS', 'data': {'Ute': 2860968, 'Rainer': 3905852, 'Harald': 6235534, 'Olaf': 9275980, 'Sarah': 6548766}}\n",
      "2020-10-29 16:01:50,744 - vs2lab.a1_layers.server.Server - INFO - reply sent\n",
      "2020-10-29 16:01:50,747 - vs2lab.a1_layers.server.Server - INFO - new serve loop\n",
      "2020-10-29 16:03:55,836 - vs2lab.a1_layers.server.Server - INFO - received data: b'{\"type\": \"GET\", \"name\": \"Sarah\"}'\n",
      "2020-10-29 16:03:55,837 - vs2lab.a1_layers.server.Server - INFO - reply: {'type': 'SUCCESS', 'data': {'Sarah': 6548766}}\n",
      "2020-10-29 16:03:55,838 - vs2lab.a1_layers.server.Server - INFO - reply sent\n",
      "2020-10-29 16:03:55,841 - vs2lab.a1_layers.server.Server - INFO - new serve loop\n",
      "2020-10-29 16:04:15,012 - vs2lab.a1_layers.server.Server - INFO - received data: b'{\"type\": \"GET\", \"name\": \"XYZ\"}'\n",
      "2020-10-29 16:04:15,013 - vs2lab.a1_layers.server.Server - INFO - reply: {'type': 'ERROR', 'msg': 'Name not found in Database', 'data': None}\n",
      "2020-10-29 16:04:15,014 - vs2lab.a1_layers.server.Server - INFO - reply sent\n",
      "2020-10-29 16:04:15,016 - vs2lab.a1_layers.server.Server - INFO - new serve loop\n"
     ]
    }
   ],
   "source": [
    "import server\n",
    "\n",
    "serverInstance = server.Server()\n",
    "serverInstance.serve()"
   ]
  },
  {
   "cell_type": "code",
   "execution_count": null,
   "metadata": {},
   "outputs": [],
   "source": []
  }
 ],
 "metadata": {
  "kernelspec": {
   "display_name": "Python 3",
   "language": "python",
   "name": "python3"
  },
  "language_info": {
   "codemirror_mode": {
    "name": "ipython",
    "version": 3
   },
   "file_extension": ".py",
   "mimetype": "text/x-python",
   "name": "python",
   "nbconvert_exporter": "python",
   "pygments_lexer": "ipython3",
   "version": "3.6.9"
  }
 },
 "nbformat": 4,
 "nbformat_minor": 2
}
