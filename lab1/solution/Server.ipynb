{
 "cells": [
  {
   "cell_type": "markdown",
   "metadata": {},
   "source": [
    "# Server\n",
    "\n",
    "Start this to start the server"
   ]
  },
  {
   "cell_type": "code",
   "execution_count": null,
   "metadata": {
    "pycharm": {
     "name": "#%%\n"
    },
    "scrolled": true
   },
   "outputs": [
    {
     "name": "stderr",
     "output_type": "stream",
     "text": [
      "2020-04-29 17:52:42,171 - vs2lab.a1_layers.server.Server - INFO - new serve loop\n",
      "2020-04-29 17:52:45,175 - vs2lab.a1_layers.server.Server - INFO - new serve loop\n",
      "2020-04-29 17:52:57,956 - vs2lab.a1_layers.server.Server - INFO - received data: b'{\"type\": \"GET\", \"name\": \"fe\"}'\n",
      "2020-04-29 17:52:57,960 - vs2lab.a1_layers.server.Server - INFO - reply: {'type': 'ERROR', 'msg': 'Name not found in Database', 'data': None}\n",
      "2020-04-29 17:52:57,962 - vs2lab.a1_layers.server.Server - INFO - reply sent\n",
      "2020-04-29 17:52:57,966 - vs2lab.a1_layers.server.Server - INFO - new serve loop\n",
      "2020-04-29 17:52:59,803 - vs2lab.a1_layers.server.Server - INFO - new serve loop\n",
      "2020-04-29 17:53:02,808 - vs2lab.a1_layers.server.Server - INFO - new serve loop\n",
      "2020-04-29 17:53:05,811 - vs2lab.a1_layers.server.Server - INFO - new serve loop\n",
      "2020-04-29 17:53:08,815 - vs2lab.a1_layers.server.Server - INFO - new serve loop\n",
      "2020-04-29 17:53:11,819 - vs2lab.a1_layers.server.Server - INFO - new serve loop\n",
      "2020-04-29 17:53:14,823 - vs2lab.a1_layers.server.Server - INFO - new serve loop\n",
      "2020-04-29 17:53:17,827 - vs2lab.a1_layers.server.Server - INFO - new serve loop\n",
      "2020-04-29 17:53:20,831 - vs2lab.a1_layers.server.Server - INFO - new serve loop\n",
      "2020-04-29 17:53:23,835 - vs2lab.a1_layers.server.Server - INFO - new serve loop\n",
      "2020-04-29 17:53:26,837 - vs2lab.a1_layers.server.Server - INFO - new serve loop\n",
      "2020-04-29 17:53:29,840 - vs2lab.a1_layers.server.Server - INFO - new serve loop\n",
      "2020-04-29 17:53:32,843 - vs2lab.a1_layers.server.Server - INFO - new serve loop\n",
      "2020-04-29 17:53:35,848 - vs2lab.a1_layers.server.Server - INFO - new serve loop\n",
      "2020-04-29 17:53:38,851 - vs2lab.a1_layers.server.Server - INFO - new serve loop\n",
      "2020-04-29 17:53:41,855 - vs2lab.a1_layers.server.Server - INFO - new serve loop\n",
      "2020-04-29 17:53:44,859 - vs2lab.a1_layers.server.Server - INFO - new serve loop\n",
      "2020-04-29 17:53:47,862 - vs2lab.a1_layers.server.Server - INFO - new serve loop\n",
      "2020-04-29 17:53:50,863 - vs2lab.a1_layers.server.Server - INFO - new serve loop\n",
      "2020-04-29 17:53:53,867 - vs2lab.a1_layers.server.Server - INFO - new serve loop\n",
      "2020-04-29 17:53:56,872 - vs2lab.a1_layers.server.Server - INFO - new serve loop\n",
      "2020-04-29 17:53:59,875 - vs2lab.a1_layers.server.Server - INFO - new serve loop\n",
      "2020-04-29 17:54:02,877 - vs2lab.a1_layers.server.Server - INFO - new serve loop\n",
      "2020-04-29 17:54:05,879 - vs2lab.a1_layers.server.Server - INFO - new serve loop\n",
      "2020-04-29 17:54:08,883 - vs2lab.a1_layers.server.Server - INFO - new serve loop\n",
      "2020-04-29 17:54:11,887 - vs2lab.a1_layers.server.Server - INFO - new serve loop\n",
      "2020-04-29 17:54:14,891 - vs2lab.a1_layers.server.Server - INFO - new serve loop\n",
      "2020-04-29 17:54:17,893 - vs2lab.a1_layers.server.Server - INFO - new serve loop\n",
      "2020-04-29 17:54:20,895 - vs2lab.a1_layers.server.Server - INFO - new serve loop\n",
      "2020-04-29 17:54:23,899 - vs2lab.a1_layers.server.Server - INFO - new serve loop\n",
      "2020-04-29 17:54:26,903 - vs2lab.a1_layers.server.Server - INFO - new serve loop\n",
      "2020-04-29 17:54:29,907 - vs2lab.a1_layers.server.Server - INFO - new serve loop\n",
      "2020-04-29 17:54:32,911 - vs2lab.a1_layers.server.Server - INFO - new serve loop\n",
      "2020-04-29 17:54:35,915 - vs2lab.a1_layers.server.Server - INFO - new serve loop\n",
      "2020-04-29 17:54:38,919 - vs2lab.a1_layers.server.Server - INFO - new serve loop\n"
     ]
    }
   ],
   "source": [
    "import server\n",
    "\n",
    "serverInstance = server.Server()\n",
    "serverInstance.serve()\n"
   ]
  },
  {
   "cell_type": "code",
   "execution_count": null,
   "outputs": [],
   "source": [],
   "metadata": {
    "collapsed": false,
    "pycharm": {
     "name": "#%%\n"
    }
   }
  },
  {
   "cell_type": "code",
   "execution_count": null,
   "metadata": {},
   "outputs": [],
   "source": []
  }
 ],
 "metadata": {
  "kernelspec": {
   "display_name": "Python 3",
   "language": "python",
   "name": "python3"
  },
  "language_info": {
   "codemirror_mode": {
    "name": "ipython",
    "version": 3
   },
   "file_extension": ".py",
   "mimetype": "text/x-python",
   "name": "python",
   "nbconvert_exporter": "python",
   "pygments_lexer": "ipython3",
   "version": "3.7.5"
  }
 },
 "nbformat": 4,
 "nbformat_minor": 2
}