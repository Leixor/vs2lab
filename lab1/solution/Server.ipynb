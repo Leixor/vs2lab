{
 "cells": [
  {
   "cell_type": "markdown",
   "metadata": {},
   "source": [
    "# Server\n",
    "\n",
    "Start this to start the server"
   ]
  },
  {
   "cell_type": "code",
   "execution_count": null,
   "metadata": {
    "pycharm": {
     "name": "#%%\n"
    },
    "scrolled": true
   },
   "outputs": [
    {
     "name": "stderr",
     "output_type": "stream",
     "text": [
      "2020-10-29 15:41:45,270 - vs2lab.a1_layers.server.Server - INFO - new serve loop\n"
     ]
    },
    {
     "name": "stdout",
     "output_type": "stream",
     "text": [
      "None\n"
     ]
    },
    {
     "name": "stderr",
     "output_type": "stream",
     "text": [
      "2020-10-29 15:41:48,273 - vs2lab.a1_layers.server.Server - INFO - new serve loop\n",
      "2020-10-29 15:41:51,277 - vs2lab.a1_layers.server.Server - INFO - new serve loop\n",
      "2020-10-29 15:41:54,280 - vs2lab.a1_layers.server.Server - INFO - new serve loop\n",
      "2020-10-29 15:42:02,343 - vs2lab.a1_layers.server.Server - INFO - new serve loop\n",
      "2020-10-29 15:42:19,815 - vs2lab.a1_layers.server.Server - INFO - new serve loop\n",
      "2020-10-29 15:42:30,343 - vs2lab.a1_layers.server.Server - INFO - new serve loop\n",
      "2020-10-29 15:42:46,717 - vs2lab.a1_layers.server.Server - INFO - new serve loop\n",
      "2020-10-29 15:43:04,063 - vs2lab.a1_layers.server.Server - INFO - new serve loop\n",
      "2020-10-29 15:43:07,436 - vs2lab.a1_layers.server.Server - INFO - received data: b'{\"type\": \"GET_ALL\", \"name\": \"\"}'\n",
      "2020-10-29 15:43:07,437 - vs2lab.a1_layers.server.Server - INFO - reply: {'type': 'SUCCESS', 'data': {'Ute': 2860968, 'Rainer': 3905852, 'Harald': 6235534, 'Olaf': 9275980, 'Sarah': 6548766}}\n",
      "2020-10-29 15:43:07,438 - vs2lab.a1_layers.server.Server - INFO - reply sent\n",
      "2020-10-29 15:43:07,440 - vs2lab.a1_layers.server.Server - INFO - new serve loop\n",
      "2020-10-29 15:44:02,666 - vs2lab.a1_layers.server.Server - INFO - new serve loop\n",
      "2020-10-29 15:44:08,360 - vs2lab.a1_layers.server.Server - INFO - new serve loop\n",
      "2020-10-29 15:44:15,265 - vs2lab.a1_layers.server.Server - INFO - received data: b'{\"type\": \"GET_ALL\", \"name\": \"\"}'\n",
      "2020-10-29 15:44:15,266 - vs2lab.a1_layers.server.Server - INFO - reply: {'type': 'SUCCESS', 'data': {'Ute': 2860968, 'Rainer': 3905852, 'Harald': 6235534, 'Olaf': 9275980, 'Sarah': 6548766}}\n",
      "2020-10-29 15:44:15,267 - vs2lab.a1_layers.server.Server - INFO - reply sent\n",
      "2020-10-29 15:44:15,270 - vs2lab.a1_layers.server.Server - INFO - new serve loop\n",
      "2020-10-29 15:44:19,252 - vs2lab.a1_layers.server.Server - INFO - received data: b'{\"type\": \"GET\", \"name\": \"\\'Ute\\'\"}'\n",
      "2020-10-29 15:44:19,252 - vs2lab.a1_layers.server.Server - INFO - reply: {'type': 'ERROR', 'msg': 'Name not found in Database', 'data': None}\n",
      "2020-10-29 15:44:19,253 - vs2lab.a1_layers.server.Server - INFO - reply sent\n",
      "2020-10-29 15:44:19,255 - vs2lab.a1_layers.server.Server - INFO - new serve loop\n",
      "2020-10-29 15:44:41,229 - vs2lab.a1_layers.server.Server - INFO - new serve loop\n",
      "2020-10-29 15:44:43,913 - vs2lab.a1_layers.server.Server - INFO - new serve loop\n",
      "2020-10-29 15:44:52,311 - vs2lab.a1_layers.server.Server - INFO - received data: b'{\"type\": \"GET\", \"name\": \"Rainer\"}'\n",
      "2020-10-29 15:44:52,312 - vs2lab.a1_layers.server.Server - INFO - reply: {'type': 'SUCCESS', 'data': {'Rainer': 3905852}}\n",
      "2020-10-29 15:44:52,313 - vs2lab.a1_layers.server.Server - INFO - reply sent\n",
      "2020-10-29 15:44:52,317 - vs2lab.a1_layers.server.Server - INFO - new serve loop\n",
      "2020-10-29 15:44:56,629 - vs2lab.a1_layers.server.Server - INFO - received data: b'{\"type\": \"GET\", \"name\": \"Ute\"}'\n",
      "2020-10-29 15:44:56,630 - vs2lab.a1_layers.server.Server - INFO - reply: {'type': 'SUCCESS', 'data': {'Ute': 2860968}}\n",
      "2020-10-29 15:44:56,631 - vs2lab.a1_layers.server.Server - INFO - reply sent\n",
      "2020-10-29 15:44:56,633 - vs2lab.a1_layers.server.Server - INFO - new serve loop\n",
      "2020-10-29 15:45:47,533 - vs2lab.a1_layers.server.Server - INFO - new serve loop\n",
      "2020-10-29 15:45:50,536 - vs2lab.a1_layers.server.Server - INFO - new serve loop\n",
      "2020-10-29 15:45:53,538 - vs2lab.a1_layers.server.Server - INFO - new serve loop\n",
      "2020-10-29 15:45:56,541 - vs2lab.a1_layers.server.Server - INFO - new serve loop\n",
      "2020-10-29 15:45:59,544 - vs2lab.a1_layers.server.Server - INFO - new serve loop\n",
      "2020-10-29 15:46:02,548 - vs2lab.a1_layers.server.Server - INFO - new serve loop\n",
      "2020-10-29 15:46:05,551 - vs2lab.a1_layers.server.Server - INFO - new serve loop\n",
      "2020-10-29 15:46:08,555 - vs2lab.a1_layers.server.Server - INFO - new serve loop\n",
      "2020-10-29 15:46:11,559 - vs2lab.a1_layers.server.Server - INFO - new serve loop\n",
      "2020-10-29 15:46:14,561 - vs2lab.a1_layers.server.Server - INFO - new serve loop\n",
      "2020-10-29 15:46:17,564 - vs2lab.a1_layers.server.Server - INFO - new serve loop\n",
      "2020-10-29 15:46:20,568 - vs2lab.a1_layers.server.Server - INFO - new serve loop\n",
      "2020-10-29 15:46:23,572 - vs2lab.a1_layers.server.Server - INFO - new serve loop\n",
      "2020-10-29 15:46:26,575 - vs2lab.a1_layers.server.Server - INFO - new serve loop\n",
      "2020-10-29 15:46:29,579 - vs2lab.a1_layers.server.Server - INFO - new serve loop\n",
      "2020-10-29 15:46:32,583 - vs2lab.a1_layers.server.Server - INFO - new serve loop\n",
      "2020-10-29 15:46:35,586 - vs2lab.a1_layers.server.Server - INFO - new serve loop\n",
      "2020-10-29 15:46:38,590 - vs2lab.a1_layers.server.Server - INFO - new serve loop\n",
      "2020-10-29 15:46:41,592 - vs2lab.a1_layers.server.Server - INFO - new serve loop\n",
      "2020-10-29 15:46:44,595 - vs2lab.a1_layers.server.Server - INFO - new serve loop\n",
      "2020-10-29 15:46:47,598 - vs2lab.a1_layers.server.Server - INFO - new serve loop\n",
      "2020-10-29 15:46:50,600 - vs2lab.a1_layers.server.Server - INFO - new serve loop\n",
      "2020-10-29 15:46:53,603 - vs2lab.a1_layers.server.Server - INFO - new serve loop\n",
      "2020-10-29 15:46:56,607 - vs2lab.a1_layers.server.Server - INFO - new serve loop\n",
      "2020-10-29 15:46:59,609 - vs2lab.a1_layers.server.Server - INFO - new serve loop\n",
      "2020-10-29 15:47:02,612 - vs2lab.a1_layers.server.Server - INFO - new serve loop\n",
      "2020-10-29 15:47:05,615 - vs2lab.a1_layers.server.Server - INFO - new serve loop\n",
      "2020-10-29 15:47:08,619 - vs2lab.a1_layers.server.Server - INFO - new serve loop\n",
      "2020-10-29 15:47:11,620 - vs2lab.a1_layers.server.Server - INFO - new serve loop\n",
      "2020-10-29 15:47:14,624 - vs2lab.a1_layers.server.Server - INFO - new serve loop\n",
      "2020-10-29 15:47:17,628 - vs2lab.a1_layers.server.Server - INFO - new serve loop\n",
      "2020-10-29 15:47:20,628 - vs2lab.a1_layers.server.Server - INFO - new serve loop\n",
      "2020-10-29 15:47:23,632 - vs2lab.a1_layers.server.Server - INFO - new serve loop\n",
      "2020-10-29 15:47:26,634 - vs2lab.a1_layers.server.Server - INFO - new serve loop\n",
      "2020-10-29 15:47:29,636 - vs2lab.a1_layers.server.Server - INFO - new serve loop\n",
      "2020-10-29 15:47:32,637 - vs2lab.a1_layers.server.Server - INFO - new serve loop\n",
      "2020-10-29 15:47:35,641 - vs2lab.a1_layers.server.Server - INFO - new serve loop\n",
      "2020-10-29 15:47:38,644 - vs2lab.a1_layers.server.Server - INFO - new serve loop\n",
      "2020-10-29 15:47:41,647 - vs2lab.a1_layers.server.Server - INFO - new serve loop\n",
      "2020-10-29 15:47:44,650 - vs2lab.a1_layers.server.Server - INFO - new serve loop\n",
      "2020-10-29 15:47:47,652 - vs2lab.a1_layers.server.Server - INFO - new serve loop\n",
      "2020-10-29 15:47:50,655 - vs2lab.a1_layers.server.Server - INFO - new serve loop\n",
      "2020-10-29 15:47:53,660 - vs2lab.a1_layers.server.Server - INFO - new serve loop\n",
      "2020-10-29 15:47:56,662 - vs2lab.a1_layers.server.Server - INFO - new serve loop\n",
      "2020-10-29 15:47:59,665 - vs2lab.a1_layers.server.Server - INFO - new serve loop\n",
      "2020-10-29 15:48:02,668 - vs2lab.a1_layers.server.Server - INFO - new serve loop\n",
      "2020-10-29 15:48:05,670 - vs2lab.a1_layers.server.Server - INFO - new serve loop\n",
      "2020-10-29 15:48:08,672 - vs2lab.a1_layers.server.Server - INFO - new serve loop\n",
      "2020-10-29 15:48:11,675 - vs2lab.a1_layers.server.Server - INFO - new serve loop\n",
      "2020-10-29 15:48:14,678 - vs2lab.a1_layers.server.Server - INFO - new serve loop\n",
      "2020-10-29 15:48:17,680 - vs2lab.a1_layers.server.Server - INFO - new serve loop\n",
      "2020-10-29 15:48:20,684 - vs2lab.a1_layers.server.Server - INFO - new serve loop\n",
      "2020-10-29 15:48:23,688 - vs2lab.a1_layers.server.Server - INFO - new serve loop\n",
      "2020-10-29 15:48:26,692 - vs2lab.a1_layers.server.Server - INFO - new serve loop\n",
      "2020-10-29 15:48:29,695 - vs2lab.a1_layers.server.Server - INFO - new serve loop\n",
      "2020-10-29 15:48:32,699 - vs2lab.a1_layers.server.Server - INFO - new serve loop\n",
      "2020-10-29 15:48:35,700 - vs2lab.a1_layers.server.Server - INFO - new serve loop\n",
      "2020-10-29 15:48:38,704 - vs2lab.a1_layers.server.Server - INFO - new serve loop\n",
      "2020-10-29 15:48:41,708 - vs2lab.a1_layers.server.Server - INFO - new serve loop\n",
      "2020-10-29 15:48:44,711 - vs2lab.a1_layers.server.Server - INFO - new serve loop\n",
      "2020-10-29 15:48:47,713 - vs2lab.a1_layers.server.Server - INFO - new serve loop\n",
      "2020-10-29 15:48:50,716 - vs2lab.a1_layers.server.Server - INFO - new serve loop\n",
      "2020-10-29 15:48:53,720 - vs2lab.a1_layers.server.Server - INFO - new serve loop\n"
     ]
    },
    {
     "name": "stderr",
     "output_type": "stream",
     "text": [
      "2020-10-29 15:48:56,723 - vs2lab.a1_layers.server.Server - INFO - new serve loop\n",
      "2020-10-29 15:48:59,725 - vs2lab.a1_layers.server.Server - INFO - new serve loop\n",
      "2020-10-29 15:49:02,729 - vs2lab.a1_layers.server.Server - INFO - new serve loop\n",
      "2020-10-29 15:49:05,733 - vs2lab.a1_layers.server.Server - INFO - new serve loop\n",
      "2020-10-29 15:49:08,736 - vs2lab.a1_layers.server.Server - INFO - new serve loop\n",
      "2020-10-29 15:49:11,740 - vs2lab.a1_layers.server.Server - INFO - new serve loop\n",
      "2020-10-29 15:49:14,744 - vs2lab.a1_layers.server.Server - INFO - new serve loop\n",
      "2020-10-29 15:49:17,746 - vs2lab.a1_layers.server.Server - INFO - new serve loop\n",
      "2020-10-29 15:49:20,749 - vs2lab.a1_layers.server.Server - INFO - new serve loop\n",
      "2020-10-29 15:49:23,752 - vs2lab.a1_layers.server.Server - INFO - new serve loop\n",
      "2020-10-29 15:49:26,756 - vs2lab.a1_layers.server.Server - INFO - new serve loop\n",
      "2020-10-29 15:49:29,759 - vs2lab.a1_layers.server.Server - INFO - new serve loop\n",
      "2020-10-29 15:49:32,763 - vs2lab.a1_layers.server.Server - INFO - new serve loop\n",
      "2020-10-29 15:49:35,765 - vs2lab.a1_layers.server.Server - INFO - new serve loop\n",
      "2020-10-29 15:49:38,768 - vs2lab.a1_layers.server.Server - INFO - new serve loop\n",
      "2020-10-29 15:49:41,771 - vs2lab.a1_layers.server.Server - INFO - new serve loop\n"
     ]
    }
   ],
   "source": [
    "import server\n",
    "\n",
    "serverInstance = server.Server()\n",
    "serverInstance.serve()\n"
   ]
  }
 ],
 "metadata": {
  "kernelspec": {
   "display_name": "Python 3",
   "language": "python",
   "name": "python3"
  },
  "language_info": {
   "codemirror_mode": {
    "name": "ipython",
    "version": 3
   },
   "file_extension": ".py",
   "mimetype": "text/x-python",
   "name": "python",
   "nbconvert_exporter": "python",
   "pygments_lexer": "ipython3",
   "version": "3.6.9"
  }
 },
 "nbformat": 4,
 "nbformat_minor": 2
}
