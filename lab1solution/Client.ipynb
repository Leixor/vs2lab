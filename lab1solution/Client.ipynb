{
 "cells": [
  {
   "cell_type": "markdown",
   "metadata": {},
   "source": [
    "# Client\n",
    "\n",
    "Type \"get\" to search for Phone Numbers\n",
    "Type \"getall\" to display all Entries\n",
    "Type \"close\" to close Session"
   ]
  },
  {
   "cell_type": "code",
   "execution_count": 1,
   "metadata": {
    "pycharm": {
     "name": "#%%\n"
    }
   },
   "outputs": [
    {
     "name": "stderr",
     "output_type": "stream",
     "text": [
      "2020-05-01 15:16:24,610 - vs2lab.a1_layers.client.Client - INFO - Client connected to socket <socket.socket fd=58, family=AddressFamily.AF_INET, type=SocketKind.SOCK_STREAM, proto=0, laddr=('127.0.0.1', 55418), raddr=('127.0.0.1', 50007)>\n"
     ]
    },
    {
     "name": "stdout",
     "output_type": "stream",
     "text": [
      "get\n",
      "Please type a Name:\n",
      "Ute\n"
     ]
    },
    {
     "name": "stderr",
     "output_type": "stream",
     "text": [
      "2020-05-01 15:16:28,147 - vs2lab.a1_layers.client.Client - INFO - GET: Ute\n",
      "2020-05-01 15:16:28,150 - vs2lab.a1_layers.client.Client - INFO - sent Request: {'type': 'GET', 'name': 'Ute'}\n",
      "2020-05-01 15:16:28,155 - vs2lab.a1_layers.client.Client - INFO - received data: b'{\"type\": \"SUCCESS\", \"data\": {\"Ute\": 2860968}}'\n",
      "2020-05-01 15:16:28,159 - vs2lab.a1_layers.client.Client - INFO - Client connected to socket <socket.socket fd=61, family=AddressFamily.AF_INET, type=SocketKind.SOCK_STREAM, proto=0, laddr=('127.0.0.1', 55420), raddr=('127.0.0.1', 50007)>\n"
     ]
    },
    {
     "name": "stdout",
     "output_type": "stream",
     "text": [
      "The Number of Ute is 2860968.\n",
      "close\n"
     ]
    },
    {
     "name": "stderr",
     "output_type": "stream",
     "text": [
      "2020-05-01 15:16:30,912 - vs2lab.a1_layers.client.Client - INFO - Client down.\n"
     ]
    },
    {
     "name": "stdout",
     "output_type": "stream",
     "text": [
      "Session closed\n"
     ]
    }
   ],
   "source": [
    "import client\n",
    "\n",
    "while True:\n",
    "    clientInstance = client.Client()\n",
    "    inputText = input()\n",
    "    if inputText == \"get\":\n",
    "        print(\"Please type a Name:\")\n",
    "        inputName = input()\n",
    "        answer = clientInstance.GET(inputName)\n",
    "        if answer[\"type\"] == \"SUCCESS\":\n",
    "            print(\"The Number of \" + inputName + \" is \" + str(answer[\"data\"][inputName]) + \".\")\n",
    "        elif answer[\"type\"] == \"ERROR\":\n",
    "            print(\"Error: \" + answer[\"msg\"])\n",
    "\n",
    "    elif inputText == \"getall\":\n",
    "        answerData = (clientInstance.GETALL()[\"data\"])\n",
    "        print(\"All Entries: \\n\")\n",
    "        for entry in answerData.keys():\n",
    "            print(entry + \": \" + str(answerData[entry]))\n",
    "\n",
    "    elif inputText == \"close\":\n",
    "        clientInstance.close()\n",
    "        print(\"Session closed\")\n",
    "        break"
   ]
  },
  {
   "cell_type": "code",
   "execution_count": null,
   "metadata": {
    "pycharm": {
     "name": "#%%\n"
    }
   },
   "outputs": [],
   "source": []
  },
  {
   "cell_type": "code",
   "execution_count": null,
   "metadata": {},
   "outputs": [],
   "source": []
  }
 ],
 "metadata": {
  "kernelspec": {
   "display_name": "Python 3",
   "language": "python",
   "name": "python3"
  },
  "language_info": {
   "codemirror_mode": {
    "name": "ipython",
    "version": 3
   },
   "file_extension": ".py",
   "mimetype": "text/x-python",
   "name": "python",
   "nbconvert_exporter": "python",
   "pygments_lexer": "ipython3",
   "version": "3.8.2"
  }
 },
 "nbformat": 4,
 "nbformat_minor": 2
}
